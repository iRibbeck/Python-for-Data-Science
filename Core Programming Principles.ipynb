{
 "cells": [
  {
   "cell_type": "markdown",
   "id": "cd8ae02a",
   "metadata": {},
   "source": [
    "# Python for Data Science #\n",
    "---\n",
    "## Core Programming Principles\n",
    "---\n",
    "### Types of Variables\n",
    "\n",
    "Integer  \n",
    "Float / double  \n",
    "String  \n",
    "Logical"
   ]
  },
  {
   "cell_type": "code",
   "execution_count": 1,
   "id": "3ce9ed66",
   "metadata": {},
   "outputs": [
    {
     "data": {
      "text/plain": [
       "int"
      ]
     },
     "execution_count": 1,
     "metadata": {},
     "output_type": "execute_result"
    }
   ],
   "source": [
    "#int\n",
    "x = 1\n",
    "type(x)"
   ]
  },
  {
   "cell_type": "code",
   "execution_count": 2,
   "id": "ce2ec649",
   "metadata": {},
   "outputs": [
    {
     "data": {
      "text/plain": [
       "float"
      ]
     },
     "execution_count": 2,
     "metadata": {},
     "output_type": "execute_result"
    }
   ],
   "source": [
    "#float\n",
    "y = 1.5\n",
    "type(y)"
   ]
  },
  {
   "cell_type": "code",
   "execution_count": 3,
   "id": "de5bbc46",
   "metadata": {},
   "outputs": [
    {
     "data": {
      "text/plain": [
       "str"
      ]
     },
     "execution_count": 3,
     "metadata": {},
     "output_type": "execute_result"
    }
   ],
   "source": [
    "#string\n",
    "a = \"hello\"\n",
    "type(a)"
   ]
  },
  {
   "cell_type": "code",
   "execution_count": 4,
   "id": "4a55cf06",
   "metadata": {},
   "outputs": [
    {
     "data": {
      "text/plain": [
       "bool"
      ]
     },
     "execution_count": 4,
     "metadata": {},
     "output_type": "execute_result"
    }
   ],
   "source": [
    "#logical / boolean\n",
    "q = True\n",
    "type(q)"
   ]
  },
  {
   "cell_type": "markdown",
   "id": "0d7eb39b",
   "metadata": {},
   "source": [
    "---"
   ]
  },
  {
   "cell_type": "markdown",
   "id": "d4640c8d",
   "metadata": {},
   "source": [
    "### Using Variables"
   ]
  },
  {
   "cell_type": "code",
   "execution_count": 5,
   "id": "9ffe4dc4",
   "metadata": {},
   "outputs": [],
   "source": [
    "#Arithmetics\n",
    "A = 2\n",
    "B = 4\n",
    "\n",
    "C = A + B\n",
    "D = B / A"
   ]
  },
  {
   "cell_type": "markdown",
   "id": "762a98b4",
   "metadata": {},
   "source": [
    "---"
   ]
  },
  {
   "cell_type": "code",
   "execution_count": 6,
   "id": "5572a9ba",
   "metadata": {},
   "outputs": [
    {
     "name": "stdout",
     "output_type": "stream",
     "text": [
      "6\n",
      "2.0\n"
     ]
    }
   ],
   "source": [
    "#printing\n",
    "print(C)\n",
    "print(D)"
   ]
  },
  {
   "cell_type": "markdown",
   "id": "fb04d974",
   "metadata": {},
   "source": [
    "---"
   ]
  },
  {
   "cell_type": "code",
   "execution_count": 7,
   "id": "9940c4bb",
   "metadata": {},
   "outputs": [
    {
     "data": {
      "text/plain": [
       "1.4142135623730951"
      ]
     },
     "execution_count": 7,
     "metadata": {},
     "output_type": "execute_result"
    }
   ],
   "source": [
    "#Math library\n",
    "import math\n",
    "math.sqrt(A)"
   ]
  },
  {
   "cell_type": "code",
   "execution_count": 8,
   "id": "1013a5a1",
   "metadata": {},
   "outputs": [
    {
     "data": {
      "text/plain": [
       "1.414"
      ]
     },
     "execution_count": 8,
     "metadata": {},
     "output_type": "execute_result"
    }
   ],
   "source": [
    "round(math.sqrt(2),3) #float"
   ]
  },
  {
   "cell_type": "code",
   "execution_count": 9,
   "id": "3ba6668c",
   "metadata": {},
   "outputs": [
    {
     "data": {
      "text/plain": [
       "1"
      ]
     },
     "execution_count": 9,
     "metadata": {},
     "output_type": "execute_result"
    }
   ],
   "source": [
    "round(math.sqrt(2)) #int"
   ]
  },
  {
   "cell_type": "markdown",
   "id": "dce6fa7c",
   "metadata": {},
   "source": [
    "---"
   ]
  },
  {
   "cell_type": "code",
   "execution_count": 10,
   "id": "ad2ab0b3",
   "metadata": {},
   "outputs": [],
   "source": [
    "#String addition\n",
    "greeting = \"Hello\"\n",
    "name = \"Ignacio\"\n",
    "message = greeting + \" \" + name"
   ]
  },
  {
   "cell_type": "code",
   "execution_count": 11,
   "id": "06d2495c",
   "metadata": {},
   "outputs": [
    {
     "name": "stdout",
     "output_type": "stream",
     "text": [
      "Hello Ignacio\n"
     ]
    }
   ],
   "source": [
    "print(message)"
   ]
  },
  {
   "cell_type": "markdown",
   "id": "5ab66e22",
   "metadata": {},
   "source": [
    "---"
   ]
  },
  {
   "cell_type": "markdown",
   "id": "b282b40e",
   "metadata": {},
   "source": [
    "### Boolean Variables and Operators"
   ]
  },
  {
   "cell_type": "code",
   "execution_count": 12,
   "id": "3d6301b6",
   "metadata": {},
   "outputs": [],
   "source": [
    "#Boolean / Logical\n",
    "#True\n",
    "#False"
   ]
  },
  {
   "cell_type": "code",
   "execution_count": 13,
   "id": "d560b7cb",
   "metadata": {},
   "outputs": [
    {
     "data": {
      "text/plain": [
       "True"
      ]
     },
     "execution_count": 13,
     "metadata": {},
     "output_type": "execute_result"
    }
   ],
   "source": [
    "1 < 2"
   ]
  },
  {
   "cell_type": "code",
   "execution_count": 14,
   "id": "f9cbe151",
   "metadata": {},
   "outputs": [
    {
     "data": {
      "text/plain": [
       "False"
      ]
     },
     "execution_count": 14,
     "metadata": {},
     "output_type": "execute_result"
    }
   ],
   "source": [
    "32 > 50"
   ]
  },
  {
   "cell_type": "code",
   "execution_count": 15,
   "id": "87c52c23",
   "metadata": {},
   "outputs": [
    {
     "data": {
      "text/plain": [
       "False"
      ]
     },
     "execution_count": 15,
     "metadata": {},
     "output_type": "execute_result"
    }
   ],
   "source": [
    "100 == 1"
   ]
  },
  {
   "cell_type": "markdown",
   "id": "31d21ea7",
   "metadata": {},
   "source": [
    "---\n",
    "#### Operators"
   ]
  },
  {
   "cell_type": "code",
   "execution_count": 16,
   "id": "2b2cd080",
   "metadata": {},
   "outputs": [],
   "source": [
    "# ==\n",
    "# != <>\n",
    "# <\n",
    "# >\n",
    "# <=\n",
    "# >=\n",
    "# and\n",
    "# or\n",
    "# not()"
   ]
  },
  {
   "cell_type": "code",
   "execution_count": 17,
   "id": "9d49bc17",
   "metadata": {},
   "outputs": [
    {
     "name": "stdout",
     "output_type": "stream",
     "text": [
      "True\n"
     ]
    },
    {
     "data": {
      "text/plain": [
       "bool"
      ]
     },
     "execution_count": 17,
     "metadata": {},
     "output_type": "execute_result"
    }
   ],
   "source": [
    "result = 4 < 5\n",
    "print(result)\n",
    "type(result)"
   ]
  },
  {
   "cell_type": "markdown",
   "id": "eb878269",
   "metadata": {},
   "source": [
    "---"
   ]
  },
  {
   "cell_type": "code",
   "execution_count": 18,
   "id": "20fcf11a",
   "metadata": {},
   "outputs": [
    {
     "name": "stdout",
     "output_type": "stream",
     "text": [
      "False\n"
     ]
    }
   ],
   "source": [
    "result2 = not(5 > 1)\n",
    "print(result2)"
   ]
  },
  {
   "cell_type": "code",
   "execution_count": 19,
   "id": "115e14b9",
   "metadata": {},
   "outputs": [
    {
     "data": {
      "text/plain": [
       "True"
      ]
     },
     "execution_count": 19,
     "metadata": {},
     "output_type": "execute_result"
    }
   ],
   "source": [
    "result or result2"
   ]
  },
  {
   "cell_type": "code",
   "execution_count": 20,
   "id": "c2a6d209",
   "metadata": {},
   "outputs": [
    {
     "data": {
      "text/plain": [
       "False"
      ]
     },
     "execution_count": 20,
     "metadata": {},
     "output_type": "execute_result"
    }
   ],
   "source": [
    "result and result2"
   ]
  },
  {
   "cell_type": "markdown",
   "id": "6a1d4971",
   "metadata": {},
   "source": [
    "---"
   ]
  },
  {
   "cell_type": "markdown",
   "id": "98fce3a2",
   "metadata": {},
   "source": [
    "### The \"While\" Loop\n",
    "\n",
    "Remember that Python uses Identation"
   ]
  },
  {
   "cell_type": "code",
   "execution_count": 21,
   "id": "1bfcc4b8",
   "metadata": {},
   "outputs": [],
   "source": [
    "while condition:\n",
    "    executable code1\n",
    "    executable code2\n",
    "executable code3 #out of the while loop"
   ]
  },
  {
   "cell_type": "code",
   "execution_count": 22,
   "id": "e9df1f59",
   "metadata": {},
   "outputs": [
    {
     "name": "stdout",
     "output_type": "stream",
     "text": [
      "0\n",
      "1\n",
      "2\n",
      "3\n",
      "4\n",
      "5\n",
      "6\n",
      "7\n",
      "8\n",
      "9\n",
      "10\n",
      "11\n",
      "End\n"
     ]
    }
   ],
   "source": [
    "counter = 0 #indexation in python starts at zero, so it's also a good idea to stand start counters at zero\n",
    "\n",
    "while counter < 12:\n",
    "    print(counter)\n",
    "    counter = counter + 1\n",
    "print(\"End\")"
   ]
  },
  {
   "cell_type": "markdown",
   "id": "e8f7f196",
   "metadata": {},
   "source": [
    "---\n",
    "### The \"for\" Loop"
   ]
  },
  {
   "cell_type": "code",
   "execution_count": 23,
   "id": "35e0007c",
   "metadata": {},
   "outputs": [
    {
     "name": "stdout",
     "output_type": "stream",
     "text": [
      "Counter:  0\n",
      "Counter:  1\n",
      "Counter:  2\n",
      "Counter:  3\n",
      "Counter:  4\n",
      "End\n"
     ]
    }
   ],
   "source": [
    "for i in range(5):\n",
    "    print(\"Counter: \", i)\n",
    "print(\"End\")"
   ]
  },
  {
   "cell_type": "code",
   "execution_count": 24,
   "id": "3c3e5f6f",
   "metadata": {},
   "outputs": [
    {
     "data": {
      "text/plain": [
       "[0, 1, 2, 3, 4]"
      ]
     },
     "execution_count": 24,
     "metadata": {},
     "output_type": "execute_result"
    }
   ],
   "source": [
    "list(range(5))"
   ]
  },
  {
   "cell_type": "code",
   "execution_count": 25,
   "id": "35eb755f",
   "metadata": {},
   "outputs": [
    {
     "name": "stdout",
     "output_type": "stream",
     "text": [
      "jj is equal to:  1\n",
      "jj is equal to:  10\n",
      "jj is equal to:  100\n",
      "jj is equal to:  1000\n"
     ]
    }
   ],
   "source": [
    "#Another way\n",
    "mylist = [1, 10, 100, 1000]\n",
    "for jj in mylist:\n",
    "    print(\"jj is equal to: \", jj)\n",
    "    "
   ]
  },
  {
   "cell_type": "markdown",
   "id": "1acf6fa9",
   "metadata": {},
   "source": [
    "---\n",
    "### The \"if\" Statement\n",
    "Example: Generating random variables or random numbers that are normally distributed and we're going to be checking where those random numbers fall so they can either fall towards the left of 0 or towards the right of zero to the right of ones that can be greater than 1 less than 1 in the grid and to less than 2 and so on. The random() function creates random numbers that are normally distributed with a mean of zero and standard deviation of 1."
   ]
  },
  {
   "cell_type": "code",
   "execution_count": 26,
   "id": "3a780a6e",
   "metadata": {},
   "outputs": [],
   "source": [
    "import numpy as np\n",
    "from numpy.random import randn"
   ]
  },
  {
   "cell_type": "code",
   "execution_count": 27,
   "id": "b0e9268c",
   "metadata": {},
   "outputs": [
    {
     "name": "stdout",
     "output_type": "stream",
     "text": [
      "Between -1 and 1 -0.37922616740862974\n"
     ]
    }
   ],
   "source": [
    "#------ -2 ----- -1 ----- 0 ------ 1 ----- 2 ------\n",
    "#Nested statements\n",
    "answer = None\n",
    "x = randn()\n",
    "\n",
    "if x > 1:\n",
    "    answer = \"Greater than 1 \"\n",
    "else:\n",
    "        if x >= -1:\n",
    "            answer = \"Between -1 and 1\"\n",
    "        else:\n",
    "            answer = \"Less than -1\"\n",
    "    \n",
    "print(answer, x)"
   ]
  },
  {
   "cell_type": "code",
   "execution_count": 28,
   "id": "94e492a5",
   "metadata": {},
   "outputs": [
    {
     "name": "stdout",
     "output_type": "stream",
     "text": [
      "Less than -1 -1.2415209451559486\n"
     ]
    }
   ],
   "source": [
    "#------ -2 ----- -1 ----- 0 ------ 1 ----- 2 ------\n",
    "#Chained statements\n",
    "answer = None\n",
    "x = randn()\n",
    "\n",
    "if x > 1:\n",
    "    answer = \"Greater than 1 \"\n",
    "elif x >= -1:\n",
    "    answer = \"Between -1 and 1\"\n",
    "else:\n",
    "    answer = \"Less than -1\"\n",
    "    \n",
    "print(answer, x)"
   ]
  },
  {
   "cell_type": "markdown",
   "id": "8470ba50",
   "metadata": {},
   "source": [
    "---\n",
    "## Law of Large Numbers"
   ]
  },
  {
   "cell_type": "markdown",
   "id": "09b7c8f1",
   "metadata": {},
   "source": [
    "Well the law of large numbers even though it might look a bit complex at the start is actually a very simple mathematical concept that is extremely extremely powerful.\n",
    "\n",
    "$$X_n \\to E(X) \\text{ when } n \\to \\infty$$\n",
    "\n",
    "So the average across the sample will converge to the expected value of that same measure when n increases to infinity.\n",
    "\n",
    "Ex. Test the Law of Large Numbers for N random normally distributed numbers with mean = 0, stdev = 1. Create a script that will count how many of these numbers fall between -1 and 1 and divide by the total of quantity of N.\n",
    "You know that E(X) = 68.2%  \n",
    "Check that Mean (Xn)->E(X) as you rerun the script while increasing N.\n"
   ]
  },
  {
   "cell_type": "code",
   "execution_count": 29,
   "id": "954ed548",
   "metadata": {},
   "outputs": [
    {
     "name": "stdout",
     "output_type": "stream",
     "text": [
      "0.6827558\n"
     ]
    }
   ],
   "source": [
    "import numpy as np\n",
    "from numpy.random import randn\n",
    "\n",
    "N = 10000000\n",
    "Counter = 0\n",
    "\n",
    "for i in range(N):\n",
    "    x = randn()\n",
    "    if x >= -1 and x <= 1:\n",
    "        Counter = Counter + 1\n",
    "Xn = Counter/N\n",
    "print(Xn)"
   ]
  }
 ],
 "metadata": {
  "kernelspec": {
   "display_name": "Python 3",
   "language": "python",
   "name": "python3"
  },
  "language_info": {
   "codemirror_mode": {
    "name": "ipython",
    "version": 3
   },
   "file_extension": ".py",
   "mimetype": "text/x-python",
   "name": "python",
   "nbconvert_exporter": "python",
   "pygments_lexer": "ipython3",
   "version": "3.8.8"
  }
 },
 "nbformat": 4,
 "nbformat_minor": 5
}
